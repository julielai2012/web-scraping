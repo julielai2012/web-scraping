{
 "cells": [
  {
   "cell_type": "code",
   "execution_count": 16,
   "metadata": {},
   "outputs": [],
   "source": [
    "from requests import get\n",
    "from requests.auth import HTTPBasicAuth\n",
    "from pprint import pprint\n",
    "import matplotlib.pyplot as plt\n",
    "import numpy as np\n",
    "\n",
    "import json\n",
    "import random\n",
    "\n",
    "YELP_TOKEN = \"J-_uLug-KZ278y4HH02VuMOWEo_CQCdFmV8DO8GktBTvMgA3avhd0Rt59OVqISl9F2vhcJFXgQz401PMwZNouPTKPLZ6QvmoxbyGBiWifvX3zwAo-6EH4qP3IhbXXXYx\""
   ]
  },
  {
   "cell_type": "markdown",
   "metadata": {},
   "source": [
    "# Making an HTTP request\n",
    "\n",
    "As discussed in the slides"
   ]
  },
  {
   "cell_type": "code",
   "execution_count": 17,
   "metadata": {},
   "outputs": [
    {
     "data": {
      "text/plain": [
       "'OK'"
      ]
     },
     "execution_count": 17,
     "metadata": {},
     "output_type": "execute_result"
    }
   ],
   "source": [
    "response = get(\n",
    "    \"https://api.yelp.com/v3/businesses/search?location=Toronto&limit=50\",\n",
    "    headers={\"Authorization\": \"Bearer {}\".format(YELP_TOKEN)}\n",
    ")\n",
    "response.reason"
   ]
  },
  {
   "cell_type": "code",
   "execution_count": 20,
   "metadata": {},
   "outputs": [
    {
     "name": "stdout",
     "output_type": "stream",
     "text": [
      "dict_keys(['businesses', 'total', 'region'])\n"
     ]
    }
   ],
   "source": [
    "if request.ok:\n",
    "    json_response = response.json()\n",
    "    response_headers = response.headers\n",
    "    pprint(json_response.keys())"
   ]
  },
  {
   "cell_type": "code",
   "execution_count": 13,
   "metadata": {},
   "outputs": [
    {
     "name": "stdout",
     "output_type": "stream",
     "text": [
      "dict_keys(['id', 'alias', 'name', 'image_url', 'is_closed', 'url', 'review_count', 'categories', 'rating', 'coordinates', 'transactions', 'price', 'location', 'phone', 'display_phone', 'distance'])\n"
     ]
    }
   ],
   "source": [
    "businesses = json_response['businesses']\n",
    "print(businesses[0].keys())"
   ]
  },
  {
   "cell_type": "markdown",
   "metadata": {},
   "source": [
    "# Access Token\n",
    "\n",
    "Go get one of your own from https://github.com/settings/tokens! Don't just steal mine!"
   ]
  },
  {
   "cell_type": "code",
   "execution_count": 39,
   "metadata": {},
   "outputs": [
    {
     "name": "stdout",
     "output_type": "stream",
     "text": [
      "[2771,\n",
      " 1288,\n",
      " 1595,\n",
      " 1095,\n",
      " 750,\n",
      " 781,\n",
      " 986,\n",
      " 1545,\n",
      " 672,\n",
      " 508,\n",
      " 746,\n",
      " 541,\n",
      " 861,\n",
      " 426,\n",
      " 354,\n",
      " 915,\n",
      " 319,\n",
      " 959,\n",
      " 669,\n",
      " 782,\n",
      " 566,\n",
      " 317,\n",
      " 717,\n",
      " 863,\n",
      " 585,\n",
      " 286,\n",
      " 504,\n",
      " 617,\n",
      " 388,\n",
      " 830,\n",
      " 663,\n",
      " 275,\n",
      " 347,\n",
      " 535,\n",
      " 520,\n",
      " 768,\n",
      " 412,\n",
      " 463,\n",
      " 546,\n",
      " 483,\n",
      " 422,\n",
      " 352,\n",
      " 335,\n",
      " 287,\n",
      " 255,\n",
      " 470,\n",
      " 644,\n",
      " 313,\n",
      " 332,\n",
      " 397]\n"
     ]
    }
   ],
   "source": [
    "pprint([business['review_count'] for business in businesses])"
   ]
  },
  {
   "cell_type": "code",
   "execution_count": 66,
   "metadata": {},
   "outputs": [],
   "source": [
    "from bs4 import BeautifulSoup\n",
    "\n",
    "def retrieve_review_url_for(business):\n",
    "    response = get(\n",
    "        \"https://api.yelp.com/v3/businesses/{}/reviews\".format(business['id']),\n",
    "        headers={\"Authorization\": \"Bearer {}\".format(YELP_TOKEN)}\n",
    "    ).json()\n",
    "    return response['reviews'][0]['url']\n",
    "\n",
    "review_urls = [retrieve_review_url_for(business) for business in businesses]"
   ]
  },
  {
   "cell_type": "code",
   "execution_count": null,
   "metadata": {},
   "outputs": [
    {
     "name": "stdout",
     "output_type": "stream",
     "text": [
      "Processing URL 0\n"
     ]
    }
   ],
   "source": [
    "reviews_by_sentiment = []\n",
    "\n",
    "def fetch_reviews(base_url, label, pages=3):\n",
    "    for offset in range(0, pages * 20 + 1, 20):\n",
    "        url = '{}&sort_by={}&start={}'.format(\n",
    "            base_url,\n",
    "            'rating_desc' if label == 'positive' else 'rating_asc',\n",
    "            offset\n",
    "        )\n",
    "        review_page = BeautifulSoup(get(url).text)\n",
    "        for review in review_page.find_all('span', attrs={'lang': 'en'}):\n",
    "            if review.parent.parent.parent.previous_sibling.find(text='Previous review') != None:\n",
    "                continue\n",
    "            reviews_by_sentiment.append((review.text, label))\n",
    "\n",
    "for i, url in enumerate(review_urls):\n",
    "    print('Processing URL {}'.format(i))\n",
    "    fetch_reviews(url, 'positive')\n",
    "    print('Total reviews after appending the positive ones: {}'.format(len(reviews_by_sentiment)))\n",
    "    \n",
    "    fetch_reviews(url, 'negative')\n",
    "    print('Total reviews after appending the negative ones: {}'.format(len(reviews_by_sentiment)))"
   ]
  },
  {
   "cell_type": "code",
   "execution_count": 78,
   "metadata": {},
   "outputs": [
    {
     "data": {
      "text/plain": [
       "(\"It's the worst service I've ever experience. I kindly ask the server for order but she just ignore me and give me a supercilious look. Other table all served water except us I have no idea what's wrong with her . \\xa0We had our lunch with no water and no dishes. \\xa0When my friends was ordering she's like taking the menu away and being impatient. I went Pai many times and I love the food but after today I will NEVER EVER go there again. This waitress ruined my day.\",\n",
       " 'negative')"
      ]
     },
     "execution_count": 78,
     "metadata": {},
     "output_type": "execute_result"
    }
   ],
   "source": [
    "reviews_by_sentiment[22]"
   ]
  },
  {
   "cell_type": "code",
   "execution_count": 79,
   "metadata": {},
   "outputs": [],
   "source": [
    "tokenized_reviews = [(text.split(' '), label) for (text, label) in reviews_by_sentiment]"
   ]
  },
  {
   "cell_type": "code",
   "execution_count": 89,
   "metadata": {},
   "outputs": [
    {
     "name": "stdout",
     "output_type": "stream",
     "text": [
      "Training: 1500, Testing: 500\n"
     ]
    }
   ],
   "source": [
    "from nltk.sentiment import SentimentAnalyzer\n",
    "import nltk.sentiment.util\n",
    "from nltk.classify import NaiveBayesClassifier\n",
    "\n",
    "random.shuffle(tokenized_reviews)\n",
    "training_docs = tokenized_reviews[:1500]\n",
    "test_docs = tokenized_reviews[1500:]\n",
    "\n",
    "print(\"Training: %d, Testing: %d\" % (len(training_docs), len(test_docs)))\n",
    "\n",
    "sentim_analyzer = SentimentAnalyzer()"
   ]
  },
  {
   "cell_type": "code",
   "execution_count": null,
   "metadata": {},
   "outputs": [],
   "source": [
    "all_words_neg = sentim_analyzer.all_words([nltk.sentiment.util.mark_negation(doc) for doc in training_docs])"
   ]
  },
  {
   "cell_type": "code",
   "execution_count": 91,
   "metadata": {},
   "outputs": [],
   "source": [
    "unigram_feats = sentim_analyzer.unigram_word_feats(all_words_neg, min_freq=4)\n",
    "sentim_analyzer.add_feat_extractor(nltk.sentiment.util.extract_unigram_feats, unigrams=unigram_feats)"
   ]
  },
  {
   "cell_type": "code",
   "execution_count": 92,
   "metadata": {},
   "outputs": [],
   "source": [
    "training_set = sentim_analyzer.apply_features(training_docs)\n",
    "test_set = sentim_analyzer.apply_features(test_docs)"
   ]
  },
  {
   "cell_type": "code",
   "execution_count": 93,
   "metadata": {},
   "outputs": [
    {
     "name": "stdout",
     "output_type": "stream",
     "text": [
      "Training classifier\n",
      "Evaluating NaiveBayesClassifier results...\n",
      "Accuracy: 0.746\n",
      "F-measure [negative]: 0.7120181405895691\n",
      "F-measure [positive]: 0.7728085867620752\n",
      "Precision [negative]: 0.8219895287958116\n",
      "Precision [positive]: 0.6990291262135923\n",
      "Recall [negative]: 0.628\n",
      "Recall [positive]: 0.864\n"
     ]
    }
   ],
   "source": [
    "trainer = NaiveBayesClassifier.train\n",
    "classifier = sentim_analyzer.train(trainer, training_set)\n",
    "for key,value in sorted(sentim_analyzer.evaluate(test_set).items()):\n",
    "     print('{0}: {1}'.format(key, value))"
   ]
  },
  {
   "cell_type": "code",
   "execution_count": 80,
   "metadata": {},
   "outputs": [
    {
     "data": {
      "text/plain": [
       "<BarContainer object of 2 artists>"
      ]
     },
     "execution_count": 80,
     "metadata": {},
     "output_type": "execute_result"
    },
    {
     "data": {
      "image/png": "[encoded data removed]",
      "text/plain": [
       "<Figure size 432x288 with 1 Axes>"
      ]
     },
     "metadata": {
      "needs_background": "light"
     },
     "output_type": "display_data"
    }
   ],
   "source": [
    "from collections import defaultdict\n",
    "\n",
    "c = defaultdict(int)\n",
    "for x in tokenized_reviews:\n",
    "    c[x[1]] += 1\n",
    "\n",
    "plt.bar(c.keys(), c.values())"
   ]
  },
  {
   "cell_type": "markdown",
   "metadata": {},
   "source": [
    "# GraphQL"
   ]
  },
  {
   "cell_type": "code",
   "execution_count": null,
   "metadata": {},
   "outputs": [],
   "source": []
  }
 ],
 "metadata": {
  "kernelspec": {
   "display_name": "Python 3",
   "language": "python",
   "name": "python3"
  },
  "language_info": {
   "codemirror_mode": {
    "name": "ipython",
    "version": 3
   },
   "file_extension": ".py",
   "mimetype": "text/x-python",
   "name": "python",
   "nbconvert_exporter": "python",
   "pygments_lexer": "ipython3",
   "version": "3.7.4"
  }
 },
 "nbformat": 4,
 "nbformat_minor": 2
}
